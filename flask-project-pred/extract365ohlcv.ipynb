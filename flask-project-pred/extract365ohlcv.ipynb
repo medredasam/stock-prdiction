{
 "cells": [
  {
   "cell_type": "code",
   "execution_count": null,
   "id": "1024b707",
   "metadata": {},
   "outputs": [
    {
     "name": "stdout",
     "output_type": "stream",
     "text": [
      "✅ Données enregistrées dans : tesla_ohlcv_300jours.csv\n"
     ]
    },
    {
     "data": {
      "application/vnd.plotly.v1+json": {
       "config": {
        "plotlyServerURL": "https://plot.ly"
       },
       "data": [
        {
         "close": {
          "bdata": "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",
          "dtype": "f8"
         },
         "high": {
          "bdata": "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",
          "dtype": "f8"
         },
         "low": {
          "bdata": "k4ychT1aZUCamZmZmXllQJqZmZmZyWRAj8L1KFwXZUBcj8L1KCxmQAAAAAAAAGZAmpmZmZnpZUCoOuRmuEZlQG1zY3rCbWRAKVyPwvVoZEB6VPzfUQBlQC9pjNZREGRAWMUbmUf5ZEA9CtejcH1lQHpU/N9RQGVAL2mM1lEQZUDsUbgehUtlQFyPwvUoLGRAAAAAAAA4Y0ApXI/C9ThjQGZmZmZmlmJA16NwPQpHYkCamZmZmVlhQOxRuB6Fo2FAL2mM1lGwY0DsUbgehctjQKRwPQrXy2RAWMUbmUcRZ0B7FK5H4dpmQHpU/N9RYGZAQblt36MAZkA9CtejcE1mQGZmZmZmxmZARBfUt8wsZkBEF9S3zERlQKRwPQrXa2VAAAAAAAD4ZEAAAAAAACBlQLfvUX89wmVA7FG4HoWjZUBtc2N6wm1lQAAAAAAAmGVAcT0K16OwZUCoOuRmuNZlQKRwPQrXQ2ZAL2mM1lGoZUCPwvUoXLdlQIXrUbgepWVAbXNjesK9ZUBcj8L1KOxlQJOMnIU9umVA0ZZzKa7PZUAAAAAAAMBlQFyPwvUohGVAj8L1KFyXZUDD9Shcj/JlQD0K16NwpWVAhetRuB7tZECamZmZmTllQI/C9Shcp2ZAPQrXo3AdZkAAAAAAACBmQKRwPQrXy2ZAhetRuB51ZkCuR+F6FJZmQJqZmZmZ0WZAelT831HAZkDsUbgehUtnQHY25J+ZQWhAL2mM1lFoaEC86CtIMxtpQGr67IDrQWtAAAAAAABIbUCoOuRmuE5uQJOMnIU9km5AmpmZmZlJb0Axzt+Ewh1wQEQX1LfM9G1Aq5hKP+EibUCPwvUoXHdvQJqZmZmZuW5AbXNjesLFbkBmZmZmZuZuQMP1KFyPmm1AAAAAAAB4bkBcj8L1KLRuQKg65Ga41mpAj8L1KFwHa0DD9Shcj+pqQGZmZmZmFmxAAAAAAACAa0BYxRuZR1lsQMP1KFyPympAKVyPwvW4aUAAAAAAAMBmQD0K16NwFWhAj8L1KFzvZ0A1YmafRwFoQOxRuB6FY2hAPQrXo3BVaEBq+uyA66FoQAAAAAAA2GhAk4ychT2aaUCamZmZmVlqQKuYSj/hwmpAUrgehetxa0DsUbgehVtrQJOMnIU9SmpAqDrkZrjGakB6VPzfUWBqQK5H4XoU3mlAexSuR+FSaUDXo3A9Cr9pQDV9dsD14GlAFK5H4Xo0akCTjJyFPVJqQAAAAAAAyGtAL2mM1lFQakA9CtejcLVqQBSuR+F6VGtAmpmZmZkZa0DD9Shcj/prQJOMnIU9SmxAKVyPwvXwa0CamZmZmVFsQFyPwvUoXGxAXI/C9SgEbUA9CtejcH1tQD0K16NwPW5Adjbkn5khb0ApXI/C9YhvQClcj8L1cG9ApHA9CtfDb0BxPQrXo/hvQClcj8L1EG9AAAAAAAAwbkBSuB6F67ltQMP1KFyPkm5AZmZmZmYWbkBSuB6F6xFuQC9pjNZR8G1AexSuR+EKbUBcj8L1KMxqQNGWcymut2pApHA9Ctcja0Btc2N6wl1rQEQX1LfMPGtAj8L1KFxna0CPwvUoXPdqQC9pjNZR6GpA7FG4HoWDakBEF9S3zFRuQJOMnIU96m9A3xXB/9ZjcEAvaYzWUfBvQJOMnIU9+m9AAAAAAAAob0Bcj8L1KNRuQFyPwvUo3G1AqDrkZrjGbkBSuB6F6zlxQPTDCOFR2HFAw/UoXI+ackAAAAAAAAB1QClcj8L1NHRAAAAAAAAodEBSuB6F62VzQOxRuB6FU3NAIeo+ACmgdEAAAAAAAMx0QAhyUMLM5HRAFK5H4Xr0dED4ja89Mxt1QPiNrz0zI3VAw/UoXI/6dEA9CtejcGl0QKIL6ltm6nRAogvqW2bydUD4ja89M8N1QF70FaSZyXVAAAAAAAB4dkAIclDCzCx3QCHqPgApoHdAXvQVpJlteECuR+F6FCZ5QAAAAAAA8HlAy2d5Hlz7eUCiC+pbZkJ7QCHqPgApmHxAIeo+ACmwekB6VPzfUUB6QM8xIHs9GnpAw/UoXI/2eUDPMSB7PTJ7QHpU/N9RMHxAAAAAAACoekAAAAAAAPx5QDWYhuGjKHlAuyh64KNQd0D4ja89M7d3QPiNrz0zG3lAAAAAAABgeECiC+pbZjZ4QDWYhuGjlHdA2/eovx7Bd0A1mIbho6h4QMP1KFyPWnlArkfhehSSeUAAAAAAADx6QClcj8L1ZHlAPQrXo3DpeUD4ja89M495QBSuR+F6XHlAAAAAAABQeEAAAAAAACh4QAw89x6uB3hAw/UoXI8GeEA9CtejcBV5QDHO34TCZXdAogvqW2bWd0AUrkfhenh3QLa5MT3hsnZAPQrXo3CFdkAh6j4AKeh1QF70FaSZUXRAUrgeheuRdEBe9BWkmW11QAAAAAAAuHVAelT831HgdUDj32dcuBp2QAAAAAAAwHVA499nXLjmdED4ja89M0t0QAAAAAAAlHJAuyh64KMAckCuR+F6FI5xQF70FaSZGXFACHJQwsxUcUA9CtejcF1wQMtneR5cu3BAelT831FAcECPwvUoXFdvQAAAAAAAgGtAQblt36Mga0C86CtIMyNuQLzoK0gzE21Aj8L1KFwXbkCamZmZmRltQClcj8L1yGtAZmZmZmambEB2NuSfmcFsQJqZmZmZUW1AHSCYo0cFcEAUrkfhevRwQCHqPgApqHBASkbOwh79cEBKRs7CHklwQOxRuB6Fa25AAAAAAAA0cEBxPQrXo2hvQCHqPgApWHBAAAAAAACAbUAAAAAAAMhqQJqZmZmZOWtAXI/C9Sj8a0DD9Shcj+ptQOxRuB6FK25AbXNjesK9bkBYxRuZR/FuQBSuR+F6PG1AbXNjesK1bUBYxRuZR9lrQLzoK0gzu2xAbXNjesKNbkBmZmZmZiZvQK5H4XoUOnBA499nXLgGcUDsUbgehXdxQBSuR+F67HBAKVyPwvV8cUApXI/C9XxxQKIL6ltmJnFAXvQVpJn1cEAAAAAAAPBwQMP1KFyPdnFAAAAAAAAgckAAAAAAAHhzQAhyUMLMzHNAAAAAAAAQdUDsUbgehet0QB0gmKNHZXVAUrgehevVdECuR+F6FFp1QPiNrz0zw3RAzzEgez22dEDLZ3keXNN0QEpGzsIetXVAw/UoXI8+dkAAAAAAAEB2QDWYhuGjlHVA",
          "dtype": "f8"
         },
         "name": "TSLA",
         "open": {
          "bdata": "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",
          "dtype": "f8"
         },
         "type": "candlestick",
         "x": [
          "2024-03-20T00:00:00.000000000",
          "2024-03-21T00:00:00.000000000",
          "2024-03-22T00:00:00.000000000",
          "2024-03-25T00:00:00.000000000",
          "2024-03-26T00:00:00.000000000",
          "2024-03-27T00:00:00.000000000",
          "2024-03-28T00:00:00.000000000",
          "2024-04-01T00:00:00.000000000",
          "2024-04-02T00:00:00.000000000",
          "2024-04-03T00:00:00.000000000",
          "2024-04-04T00:00:00.000000000",
          "2024-04-05T00:00:00.000000000",
          "2024-04-08T00:00:00.000000000",
          "2024-04-09T00:00:00.000000000",
          "2024-04-10T00:00:00.000000000",
          "2024-04-11T00:00:00.000000000",
          "2024-04-12T00:00:00.000000000",
          "2024-04-15T00:00:00.000000000",
          "2024-04-16T00:00:00.000000000",
          "2024-04-17T00:00:00.000000000",
          "2024-04-18T00:00:00.000000000",
          "2024-04-19T00:00:00.000000000",
          "2024-04-22T00:00:00.000000000",
          "2024-04-23T00:00:00.000000000",
          "2024-04-24T00:00:00.000000000",
          "2024-04-25T00:00:00.000000000",
          "2024-04-26T00:00:00.000000000",
          "2024-04-29T00:00:00.000000000",
          "2024-04-30T00:00:00.000000000",
          "2024-05-01T00:00:00.000000000",
          "2024-05-02T00:00:00.000000000",
          "2024-05-03T00:00:00.000000000",
          "2024-05-06T00:00:00.000000000",
          "2024-05-07T00:00:00.000000000",
          "2024-05-08T00:00:00.000000000",
          "2024-05-09T00:00:00.000000000",
          "2024-05-10T00:00:00.000000000",
          "2024-05-13T00:00:00.000000000",
          "2024-05-14T00:00:00.000000000",
          "2024-05-15T00:00:00.000000000",
          "2024-05-16T00:00:00.000000000",
          "2024-05-17T00:00:00.000000000",
          "2024-05-20T00:00:00.000000000",
          "2024-05-21T00:00:00.000000000",
          "2024-05-22T00:00:00.000000000",
          "2024-05-23T00:00:00.000000000",
          "2024-05-24T00:00:00.000000000",
          "2024-05-28T00:00:00.000000000",
          "2024-05-29T00:00:00.000000000",
          "2024-05-30T00:00:00.000000000",
          "2024-05-31T00:00:00.000000000",
          "2024-06-03T00:00:00.000000000",
          "2024-06-04T00:00:00.000000000",
          "2024-06-05T00:00:00.000000000",
          "2024-06-06T00:00:00.000000000",
          "2024-06-07T00:00:00.000000000",
          "2024-06-10T00:00:00.000000000",
          "2024-06-11T00:00:00.000000000",
          "2024-06-12T00:00:00.000000000",
          "2024-06-13T00:00:00.000000000",
          "2024-06-14T00:00:00.000000000",
          "2024-06-17T00:00:00.000000000",
          "2024-06-18T00:00:00.000000000",
          "2024-06-20T00:00:00.000000000",
          "2024-06-21T00:00:00.000000000",
          "2024-06-24T00:00:00.000000000",
          "2024-06-25T00:00:00.000000000",
          "2024-06-26T00:00:00.000000000",
          "2024-06-27T00:00:00.000000000",
          "2024-06-28T00:00:00.000000000",
          "2024-07-01T00:00:00.000000000",
          "2024-07-02T00:00:00.000000000",
          "2024-07-03T00:00:00.000000000",
          "2024-07-05T00:00:00.000000000",
          "2024-07-08T00:00:00.000000000",
          "2024-07-09T00:00:00.000000000",
          "2024-07-10T00:00:00.000000000",
          "2024-07-11T00:00:00.000000000",
          "2024-07-12T00:00:00.000000000",
          "2024-07-15T00:00:00.000000000",
          "2024-07-16T00:00:00.000000000",
          "2024-07-17T00:00:00.000000000",
          "2024-07-18T00:00:00.000000000",
          "2024-07-19T00:00:00.000000000",
          "2024-07-22T00:00:00.000000000",
          "2024-07-23T00:00:00.000000000",
          "2024-07-24T00:00:00.000000000",
          "2024-07-25T00:00:00.000000000",
          "2024-07-26T00:00:00.000000000",
          "2024-07-29T00:00:00.000000000",
          "2024-07-30T00:00:00.000000000",
          "2024-07-31T00:00:00.000000000",
          "2024-08-01T00:00:00.000000000",
          "2024-08-02T00:00:00.000000000",
          "2024-08-05T00:00:00.000000000",
          "2024-08-06T00:00:00.000000000",
          "2024-08-07T00:00:00.000000000",
          "2024-08-08T00:00:00.000000000",
          "2024-08-09T00:00:00.000000000",
          "2024-08-12T00:00:00.000000000",
          "2024-08-13T00:00:00.000000000",
          "2024-08-14T00:00:00.000000000",
          "2024-08-15T00:00:00.000000000",
          "2024-08-16T00:00:00.000000000",
          "2024-08-19T00:00:00.000000000",
          "2024-08-20T00:00:00.000000000",
          "2024-08-21T00:00:00.000000000",
          "2024-08-22T00:00:00.000000000",
          "2024-08-23T00:00:00.000000000",
          "2024-08-26T00:00:00.000000000",
          "2024-08-27T00:00:00.000000000",
          "2024-08-28T00:00:00.000000000",
          "2024-08-29T00:00:00.000000000",
          "2024-08-30T00:00:00.000000000",
          "2024-09-03T00:00:00.000000000",
          "2024-09-04T00:00:00.000000000",
          "2024-09-05T00:00:00.000000000",
          "2024-09-06T00:00:00.000000000",
          "2024-09-09T00:00:00.000000000",
          "2024-09-10T00:00:00.000000000",
          "2024-09-11T00:00:00.000000000",
          "2024-09-12T00:00:00.000000000",
          "2024-09-13T00:00:00.000000000",
          "2024-09-16T00:00:00.000000000",
          "2024-09-17T00:00:00.000000000",
          "2024-09-18T00:00:00.000000000",
          "2024-09-19T00:00:00.000000000",
          "2024-09-20T00:00:00.000000000",
          "2024-09-23T00:00:00.000000000",
          "2024-09-24T00:00:00.000000000",
          "2024-09-25T00:00:00.000000000",
          "2024-09-26T00:00:00.000000000",
          "2024-09-27T00:00:00.000000000",
          "2024-09-30T00:00:00.000000000",
          "2024-10-01T00:00:00.000000000",
          "2024-10-02T00:00:00.000000000",
          "2024-10-03T00:00:00.000000000",
          "2024-10-04T00:00:00.000000000",
          "2024-10-07T00:00:00.000000000",
          "2024-10-08T00:00:00.000000000",
          "2024-10-09T00:00:00.000000000",
          "2024-10-10T00:00:00.000000000",
          "2024-10-11T00:00:00.000000000",
          "2024-10-14T00:00:00.000000000",
          "2024-10-15T00:00:00.000000000",
          "2024-10-16T00:00:00.000000000",
          "2024-10-17T00:00:00.000000000",
          "2024-10-18T00:00:00.000000000",
          "2024-10-21T00:00:00.000000000",
          "2024-10-22T00:00:00.000000000",
          "2024-10-23T00:00:00.000000000",
          "2024-10-24T00:00:00.000000000",
          "2024-10-25T00:00:00.000000000",
          "2024-10-28T00:00:00.000000000",
          "2024-10-29T00:00:00.000000000",
          "2024-10-30T00:00:00.000000000",
          "2024-10-31T00:00:00.000000000",
          "2024-11-01T00:00:00.000000000",
          "2024-11-04T00:00:00.000000000",
          "2024-11-05T00:00:00.000000000",
          "2024-11-06T00:00:00.000000000",
          "2024-11-07T00:00:00.000000000",
          "2024-11-08T00:00:00.000000000",
          "2024-11-11T00:00:00.000000000",
          "2024-11-12T00:00:00.000000000",
          "2024-11-13T00:00:00.000000000",
          "2024-11-14T00:00:00.000000000",
          "2024-11-15T00:00:00.000000000",
          "2024-11-18T00:00:00.000000000",
          "2024-11-19T00:00:00.000000000",
          "2024-11-20T00:00:00.000000000",
          "2024-11-21T00:00:00.000000000",
          "2024-11-22T00:00:00.000000000",
          "2024-11-25T00:00:00.000000000",
          "2024-11-26T00:00:00.000000000",
          "2024-11-27T00:00:00.000000000",
          "2024-11-29T00:00:00.000000000",
          "2024-12-02T00:00:00.000000000",
          "2024-12-03T00:00:00.000000000",
          "2024-12-04T00:00:00.000000000",
          "2024-12-05T00:00:00.000000000",
          "2024-12-06T00:00:00.000000000",
          "2024-12-09T00:00:00.000000000",
          "2024-12-10T00:00:00.000000000",
          "2024-12-11T00:00:00.000000000",
          "2024-12-12T00:00:00.000000000",
          "2024-12-13T00:00:00.000000000",
          "2024-12-16T00:00:00.000000000",
          "2024-12-17T00:00:00.000000000",
          "2024-12-18T00:00:00.000000000",
          "2024-12-19T00:00:00.000000000",
          "2024-12-20T00:00:00.000000000",
          "2024-12-23T00:00:00.000000000",
          "2024-12-24T00:00:00.000000000",
          "2024-12-26T00:00:00.000000000",
          "2024-12-27T00:00:00.000000000",
          "2024-12-30T00:00:00.000000000",
          "2024-12-31T00:00:00.000000000",
          "2025-01-02T00:00:00.000000000",
          "2025-01-03T00:00:00.000000000",
          "2025-01-06T00:00:00.000000000",
          "2025-01-07T00:00:00.000000000",
          "2025-01-08T00:00:00.000000000",
          "2025-01-10T00:00:00.000000000",
          "2025-01-13T00:00:00.000000000",
          "2025-01-14T00:00:00.000000000",
          "2025-01-15T00:00:00.000000000",
          "2025-01-16T00:00:00.000000000",
          "2025-01-17T00:00:00.000000000",
          "2025-01-21T00:00:00.000000000",
          "2025-01-22T00:00:00.000000000",
          "2025-01-23T00:00:00.000000000",
          "2025-01-24T00:00:00.000000000",
          "2025-01-27T00:00:00.000000000",
          "2025-01-28T00:00:00.000000000",
          "2025-01-29T00:00:00.000000000",
          "2025-01-30T00:00:00.000000000",
          "2025-01-31T00:00:00.000000000",
          "2025-02-03T00:00:00.000000000",
          "2025-02-04T00:00:00.000000000",
          "2025-02-05T00:00:00.000000000",
          "2025-02-06T00:00:00.000000000",
          "2025-02-07T00:00:00.000000000",
          "2025-02-10T00:00:00.000000000",
          "2025-02-11T00:00:00.000000000",
          "2025-02-12T00:00:00.000000000",
          "2025-02-13T00:00:00.000000000",
          "2025-02-14T00:00:00.000000000",
          "2025-02-18T00:00:00.000000000",
          "2025-02-19T00:00:00.000000000",
          "2025-02-20T00:00:00.000000000",
          "2025-02-21T00:00:00.000000000",
          "2025-02-24T00:00:00.000000000",
          "2025-02-25T00:00:00.000000000",
          "2025-02-26T00:00:00.000000000",
          "2025-02-27T00:00:00.000000000",
          "2025-02-28T00:00:00.000000000",
          "2025-03-03T00:00:00.000000000",
          "2025-03-04T00:00:00.000000000",
          "2025-03-05T00:00:00.000000000",
          "2025-03-06T00:00:00.000000000",
          "2025-03-07T00:00:00.000000000",
          "2025-03-10T00:00:00.000000000",
          "2025-03-11T00:00:00.000000000",
          "2025-03-12T00:00:00.000000000",
          "2025-03-13T00:00:00.000000000",
          "2025-03-14T00:00:00.000000000",
          "2025-03-17T00:00:00.000000000",
          "2025-03-18T00:00:00.000000000",
          "2025-03-19T00:00:00.000000000",
          "2025-03-20T00:00:00.000000000",
          "2025-03-21T00:00:00.000000000",
          "2025-03-24T00:00:00.000000000",
          "2025-03-25T00:00:00.000000000",
          "2025-03-26T00:00:00.000000000",
          "2025-03-27T00:00:00.000000000",
          "2025-03-28T00:00:00.000000000",
          "2025-03-31T00:00:00.000000000",
          "2025-04-01T00:00:00.000000000",
          "2025-04-02T00:00:00.000000000",
          "2025-04-03T00:00:00.000000000",
          "2025-04-04T00:00:00.000000000",
          "2025-04-07T00:00:00.000000000",
          "2025-04-08T00:00:00.000000000",
          "2025-04-09T00:00:00.000000000",
          "2025-04-10T00:00:00.000000000",
          "2025-04-11T00:00:00.000000000",
          "2025-04-14T00:00:00.000000000",
          "2025-04-15T00:00:00.000000000",
          "2025-04-16T00:00:00.000000000",
          "2025-04-17T00:00:00.000000000",
          "2025-04-21T00:00:00.000000000",
          "2025-04-22T00:00:00.000000000",
          "2025-04-23T00:00:00.000000000",
          "2025-04-24T00:00:00.000000000",
          "2025-04-25T00:00:00.000000000",
          "2025-04-28T00:00:00.000000000",
          "2025-04-29T00:00:00.000000000",
          "2025-04-30T00:00:00.000000000",
          "2025-05-01T00:00:00.000000000",
          "2025-05-02T00:00:00.000000000",
          "2025-05-05T00:00:00.000000000",
          "2025-05-06T00:00:00.000000000",
          "2025-05-07T00:00:00.000000000",
          "2025-05-08T00:00:00.000000000",
          "2025-05-09T00:00:00.000000000",
          "2025-05-12T00:00:00.000000000",
          "2025-05-13T00:00:00.000000000",
          "2025-05-14T00:00:00.000000000",
          "2025-05-15T00:00:00.000000000",
          "2025-05-16T00:00:00.000000000",
          "2025-05-19T00:00:00.000000000",
          "2025-05-20T00:00:00.000000000",
          "2025-05-21T00:00:00.000000000",
          "2025-05-22T00:00:00.000000000",
          "2025-05-23T00:00:00.000000000",
          "2025-05-27T00:00:00.000000000",
          "2025-05-28T00:00:00.000000000",
          "2025-05-29T00:00:00.000000000",
          "2025-05-30T00:00:00.000000000"
         ]
        }
       ],
       "layout": {
        "template": {
         "data": {
          "bar": [
           {
            "error_x": {
             "color": "#2a3f5f"
            },
            "error_y": {
             "color": "#2a3f5f"
            },
            "marker": {
             "line": {
              "color": "white",
              "width": 0.5
             },
             "pattern": {
              "fillmode": "overlay",
              "size": 10,
              "solidity": 0.2
             }
            },
            "type": "bar"
           }
          ],
          "barpolar": [
           {
            "marker": {
             "line": {
              "color": "white",
              "width": 0.5
             },
             "pattern": {
              "fillmode": "overlay",
              "size": 10,
              "solidity": 0.2
             }
            },
            "type": "barpolar"
           }
          ],
          "carpet": [
           {
            "aaxis": {
             "endlinecolor": "#2a3f5f",
             "gridcolor": "#C8D4E3",
             "linecolor": "#C8D4E3",
             "minorgridcolor": "#C8D4E3",
             "startlinecolor": "#2a3f5f"
            },
            "baxis": {
             "endlinecolor": "#2a3f5f",
             "gridcolor": "#C8D4E3",
             "linecolor": "#C8D4E3",
             "minorgridcolor": "#C8D4E3",
             "startlinecolor": "#2a3f5f"
            },
            "type": "carpet"
           }
          ],
          "choropleth": [
           {
            "colorbar": {
             "outlinewidth": 0,
             "ticks": ""
            },
            "type": "choropleth"
           }
          ],
          "contour": [
           {
            "colorbar": {
             "outlinewidth": 0,
             "ticks": ""
            },
            "colorscale": [
             [
              0,
              "#0d0887"
             ],
             [
              0.1111111111111111,
              "#46039f"
             ],
             [
              0.2222222222222222,
              "#7201a8"
             ],
             [
              0.3333333333333333,
              "#9c179e"
             ],
             [
              0.4444444444444444,
              "#bd3786"
             ],
             [
              0.5555555555555556,
              "#d8576b"
             ],
             [
              0.6666666666666666,
              "#ed7953"
             ],
             [
              0.7777777777777778,
              "#fb9f3a"
             ],
             [
              0.8888888888888888,
              "#fdca26"
             ],
             [
              1,
              "#f0f921"
             ]
            ],
            "type": "contour"
           }
          ],
          "contourcarpet": [
           {
            "colorbar": {
             "outlinewidth": 0,
             "ticks": ""
            },
            "type": "contourcarpet"
           }
          ],
          "heatmap": [
           {
            "colorbar": {
             "outlinewidth": 0,
             "ticks": ""
            },
            "colorscale": [
             [
              0,
              "#0d0887"
             ],
             [
              0.1111111111111111,
              "#46039f"
             ],
             [
              0.2222222222222222,
              "#7201a8"
             ],
             [
              0.3333333333333333,
              "#9c179e"
             ],
             [
              0.4444444444444444,
              "#bd3786"
             ],
             [
              0.5555555555555556,
              "#d8576b"
             ],
             [
              0.6666666666666666,
              "#ed7953"
             ],
             [
              0.7777777777777778,
              "#fb9f3a"
             ],
             [
              0.8888888888888888,
              "#fdca26"
             ],
             [
              1,
              "#f0f921"
             ]
            ],
            "type": "heatmap"
           }
          ],
          "histogram": [
           {
            "marker": {
             "pattern": {
              "fillmode": "overlay",
              "size": 10,
              "solidity": 0.2
             }
            },
            "type": "histogram"
           }
          ],
          "histogram2d": [
           {
            "colorbar": {
             "outlinewidth": 0,
             "ticks": ""
            },
            "colorscale": [
             [
              0,
              "#0d0887"
             ],
             [
              0.1111111111111111,
              "#46039f"
             ],
             [
              0.2222222222222222,
              "#7201a8"
             ],
             [
              0.3333333333333333,
              "#9c179e"
             ],
             [
              0.4444444444444444,
              "#bd3786"
             ],
             [
              0.5555555555555556,
              "#d8576b"
             ],
             [
              0.6666666666666666,
              "#ed7953"
             ],
             [
              0.7777777777777778,
              "#fb9f3a"
             ],
             [
              0.8888888888888888,
              "#fdca26"
             ],
             [
              1,
              "#f0f921"
             ]
            ],
            "type": "histogram2d"
           }
          ],
          "histogram2dcontour": [
           {
            "colorbar": {
             "outlinewidth": 0,
             "ticks": ""
            },
            "colorscale": [
             [
              0,
              "#0d0887"
             ],
             [
              0.1111111111111111,
              "#46039f"
             ],
             [
              0.2222222222222222,
              "#7201a8"
             ],
             [
              0.3333333333333333,
              "#9c179e"
             ],
             [
              0.4444444444444444,
              "#bd3786"
             ],
             [
              0.5555555555555556,
              "#d8576b"
             ],
             [
              0.6666666666666666,
              "#ed7953"
             ],
             [
              0.7777777777777778,
              "#fb9f3a"
             ],
             [
              0.8888888888888888,
              "#fdca26"
             ],
             [
              1,
              "#f0f921"
             ]
            ],
            "type": "histogram2dcontour"
           }
          ],
          "mesh3d": [
           {
            "colorbar": {
             "outlinewidth": 0,
             "ticks": ""
            },
            "type": "mesh3d"
           }
          ],
          "parcoords": [
           {
            "line": {
             "colorbar": {
              "outlinewidth": 0,
              "ticks": ""
             }
            },
            "type": "parcoords"
           }
          ],
          "pie": [
           {
            "automargin": true,
            "type": "pie"
           }
          ],
          "scatter": [
           {
            "fillpattern": {
             "fillmode": "overlay",
             "size": 10,
             "solidity": 0.2
            },
            "type": "scatter"
           }
          ],
          "scatter3d": [
           {
            "line": {
             "colorbar": {
              "outlinewidth": 0,
              "ticks": ""
             }
            },
            "marker": {
             "colorbar": {
              "outlinewidth": 0,
              "ticks": ""
             }
            },
            "type": "scatter3d"
           }
          ],
          "scattercarpet": [
           {
            "marker": {
             "colorbar": {
              "outlinewidth": 0,
              "ticks": ""
             }
            },
            "type": "scattercarpet"
           }
          ],
          "scattergeo": [
           {
            "marker": {
             "colorbar": {
              "outlinewidth": 0,
              "ticks": ""
             }
            },
            "type": "scattergeo"
           }
          ],
          "scattergl": [
           {
            "marker": {
             "colorbar": {
              "outlinewidth": 0,
              "ticks": ""
             }
            },
            "type": "scattergl"
           }
          ],
          "scattermap": [
           {
            "marker": {
             "colorbar": {
              "outlinewidth": 0,
              "ticks": ""
             }
            },
            "type": "scattermap"
           }
          ],
          "scattermapbox": [
           {
            "marker": {
             "colorbar": {
              "outlinewidth": 0,
              "ticks": ""
             }
            },
            "type": "scattermapbox"
           }
          ],
          "scatterpolar": [
           {
            "marker": {
             "colorbar": {
              "outlinewidth": 0,
              "ticks": ""
             }
            },
            "type": "scatterpolar"
           }
          ],
          "scatterpolargl": [
           {
            "marker": {
             "colorbar": {
              "outlinewidth": 0,
              "ticks": ""
             }
            },
            "type": "scatterpolargl"
           }
          ],
          "scatterternary": [
           {
            "marker": {
             "colorbar": {
              "outlinewidth": 0,
              "ticks": ""
             }
            },
            "type": "scatterternary"
           }
          ],
          "surface": [
           {
            "colorbar": {
             "outlinewidth": 0,
             "ticks": ""
            },
            "colorscale": [
             [
              0,
              "#0d0887"
             ],
             [
              0.1111111111111111,
              "#46039f"
             ],
             [
              0.2222222222222222,
              "#7201a8"
             ],
             [
              0.3333333333333333,
              "#9c179e"
             ],
             [
              0.4444444444444444,
              "#bd3786"
             ],
             [
              0.5555555555555556,
              "#d8576b"
             ],
             [
              0.6666666666666666,
              "#ed7953"
             ],
             [
              0.7777777777777778,
              "#fb9f3a"
             ],
             [
              0.8888888888888888,
              "#fdca26"
             ],
             [
              1,
              "#f0f921"
             ]
            ],
            "type": "surface"
           }
          ],
          "table": [
           {
            "cells": {
             "fill": {
              "color": "#EBF0F8"
             },
             "line": {
              "color": "white"
             }
            },
            "header": {
             "fill": {
              "color": "#C8D4E3"
             },
             "line": {
              "color": "white"
             }
            },
            "type": "table"
           }
          ]
         },
         "layout": {
          "annotationdefaults": {
           "arrowcolor": "#2a3f5f",
           "arrowhead": 0,
           "arrowwidth": 1
          },
          "autotypenumbers": "strict",
          "coloraxis": {
           "colorbar": {
            "outlinewidth": 0,
            "ticks": ""
           }
          },
          "colorscale": {
           "diverging": [
            [
             0,
             "#8e0152"
            ],
            [
             0.1,
             "#c51b7d"
            ],
            [
             0.2,
             "#de77ae"
            ],
            [
             0.3,
             "#f1b6da"
            ],
            [
             0.4,
             "#fde0ef"
            ],
            [
             0.5,
             "#f7f7f7"
            ],
            [
             0.6,
             "#e6f5d0"
            ],
            [
             0.7,
             "#b8e186"
            ],
            [
             0.8,
             "#7fbc41"
            ],
            [
             0.9,
             "#4d9221"
            ],
            [
             1,
             "#276419"
            ]
           ],
           "sequential": [
            [
             0,
             "#0d0887"
            ],
            [
             0.1111111111111111,
             "#46039f"
            ],
            [
             0.2222222222222222,
             "#7201a8"
            ],
            [
             0.3333333333333333,
             "#9c179e"
            ],
            [
             0.4444444444444444,
             "#bd3786"
            ],
            [
             0.5555555555555556,
             "#d8576b"
            ],
            [
             0.6666666666666666,
             "#ed7953"
            ],
            [
             0.7777777777777778,
             "#fb9f3a"
            ],
            [
             0.8888888888888888,
             "#fdca26"
            ],
            [
             1,
             "#f0f921"
            ]
           ],
           "sequentialminus": [
            [
             0,
             "#0d0887"
            ],
            [
             0.1111111111111111,
             "#46039f"
            ],
            [
             0.2222222222222222,
             "#7201a8"
            ],
            [
             0.3333333333333333,
             "#9c179e"
            ],
            [
             0.4444444444444444,
             "#bd3786"
            ],
            [
             0.5555555555555556,
             "#d8576b"
            ],
            [
             0.6666666666666666,
             "#ed7953"
            ],
            [
             0.7777777777777778,
             "#fb9f3a"
            ],
            [
             0.8888888888888888,
             "#fdca26"
            ],
            [
             1,
             "#f0f921"
            ]
           ]
          },
          "colorway": [
           "#636efa",
           "#EF553B",
           "#00cc96",
           "#ab63fa",
           "#FFA15A",
           "#19d3f3",
           "#FF6692",
           "#B6E880",
           "#FF97FF",
           "#FECB52"
          ],
          "font": {
           "color": "#2a3f5f"
          },
          "geo": {
           "bgcolor": "white",
           "lakecolor": "white",
           "landcolor": "white",
           "showlakes": true,
           "showland": true,
           "subunitcolor": "#C8D4E3"
          },
          "hoverlabel": {
           "align": "left"
          },
          "hovermode": "closest",
          "mapbox": {
           "style": "light"
          },
          "paper_bgcolor": "white",
          "plot_bgcolor": "white",
          "polar": {
           "angularaxis": {
            "gridcolor": "#EBF0F8",
            "linecolor": "#EBF0F8",
            "ticks": ""
           },
           "bgcolor": "white",
           "radialaxis": {
            "gridcolor": "#EBF0F8",
            "linecolor": "#EBF0F8",
            "ticks": ""
           }
          },
          "scene": {
           "xaxis": {
            "backgroundcolor": "white",
            "gridcolor": "#DFE8F3",
            "gridwidth": 2,
            "linecolor": "#EBF0F8",
            "showbackground": true,
            "ticks": "",
            "zerolinecolor": "#EBF0F8"
           },
           "yaxis": {
            "backgroundcolor": "white",
            "gridcolor": "#DFE8F3",
            "gridwidth": 2,
            "linecolor": "#EBF0F8",
            "showbackground": true,
            "ticks": "",
            "zerolinecolor": "#EBF0F8"
           },
           "zaxis": {
            "backgroundcolor": "white",
            "gridcolor": "#DFE8F3",
            "gridwidth": 2,
            "linecolor": "#EBF0F8",
            "showbackground": true,
            "ticks": "",
            "zerolinecolor": "#EBF0F8"
           }
          },
          "shapedefaults": {
           "line": {
            "color": "#2a3f5f"
           }
          },
          "ternary": {
           "aaxis": {
            "gridcolor": "#DFE8F3",
            "linecolor": "#A2B1C6",
            "ticks": ""
           },
           "baxis": {
            "gridcolor": "#DFE8F3",
            "linecolor": "#A2B1C6",
            "ticks": ""
           },
           "bgcolor": "white",
           "caxis": {
            "gridcolor": "#DFE8F3",
            "linecolor": "#A2B1C6",
            "ticks": ""
           }
          },
          "title": {
           "x": 0.05
          },
          "xaxis": {
           "automargin": true,
           "gridcolor": "#EBF0F8",
           "linecolor": "#EBF0F8",
           "ticks": "",
           "title": {
            "standoff": 15
           },
           "zerolinecolor": "#EBF0F8",
           "zerolinewidth": 2
          },
          "yaxis": {
           "automargin": true,
           "gridcolor": "#EBF0F8",
           "linecolor": "#EBF0F8",
           "ticks": "",
           "title": {
            "standoff": 15
           },
           "zerolinecolor": "#EBF0F8",
           "zerolinewidth": 2
          }
         }
        },
        "title": {
         "text": "Tesla - 300 derniers jours (bougies)"
        },
        "xaxis": {
         "rangeslider": {
          "visible": true
         },
         "title": {
          "text": "Date"
         }
        },
        "yaxis": {
         "title": {
          "text": "Prix"
         }
        }
       }
      }
     },
     "metadata": {},
     "output_type": "display_data"
    }
   ],
   "source": [
    "import requests\n",
    "import pandas as pd\n",
    "import plotly.graph_objects as go\n",
    "\n",
    "# --- Paramètres de l'API ---\n",
    "API_KEY = \"b99241d3cfaf45f48ea8fc40a3fa0fb4\"  # Remplace par ta clé TwelveData\n",
    "symbol = \"TSLA\"\n",
    "interval = \"1day\"\n",
    "outputsize = 365  # Changement ici\n",
    "\n",
    "# --- Récupération des données OHLCV ---\n",
    "url = f\"https://api.twelvedata.com/time_series?symbol={symbol}&interval={interval}&apikey={API_KEY}&outputsize={outputsize}\"\n",
    "response = requests.get(url)\n",
    "data = response.json()\n",
    "\n",
    "# --- Traitement des données ---\n",
    "values = data.get('values', [])\n",
    "df = pd.DataFrame(values)\n",
    "df[['open', 'high', 'low', 'close', 'volume']] = df[['open', 'high', 'low', 'close', 'volume']].apply(pd.to_numeric)\n",
    "df['datetime'] = pd.to_datetime(df['datetime'])\n",
    "df = df.sort_values(by='datetime').reset_index(drop=True)\n",
    "df.set_index('datetime', inplace=True)\n",
    "\n",
    "# --- Enregistrement dans un fichier CSV ---\n",
    "csv_filename = \"tesla_ohlcv_365jours.csv\"  # Changement ici\n",
    "df.to_csv(csv_filename)\n",
    "print(f\"✅ Données enregistrées dans : {csv_filename}\")\n",
    "\n",
    "# --- Graphe interactif avec Plotly ---\n",
    "fig = go.Figure(data=[\n",
    "    go.Candlestick(\n",
    "        x=df.index,\n",
    "        open=df['open'],\n",
    "        high=df['high'],\n",
    "        low=df['low'],\n",
    "        close=df['close'],\n",
    "        name=\"TSLA\"\n",
    "    )\n",
    "])\n",
    "\n",
    "fig.update_layout(\n",
    "    title=\"Tesla - 365 derniers jours (bougies)\",  # Changement ici\n",
    "    xaxis_title=\"Date\",\n",
    "    yaxis_title=\"Prix\",\n",
    "    xaxis_rangeslider_visible=True,\n",
    "    template=\"plotly_white\"\n",
    ")\n",
    "\n",
    "fig.show()\n"
   ]
  }
 ],
 "metadata": {
  "kernelspec": {
   "display_name": "Python 3",
   "language": "python",
   "name": "python3"
  },
  "language_info": {
   "codemirror_mode": {
    "name": "ipython",
    "version": 3
   },
   "file_extension": ".py",
   "mimetype": "text/x-python",
   "name": "python",
   "nbconvert_exporter": "python",
   "pygments_lexer": "ipython3",
   "version": "3.11.3"
  }
 },
 "nbformat": 4,
 "nbformat_minor": 5
}
